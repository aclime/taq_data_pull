{
 "cells": [
  {
   "cell_type": "code",
   "execution_count": 2,
   "metadata": {},
   "outputs": [
    {
     "name": "stdout",
     "output_type": "stream",
     "text": [
      "The autoreload extension is already loaded. To reload it, use:\n",
      "  %reload_ext autoreload\n"
     ]
    }
   ],
   "source": [
    "%load_ext autoreload\n",
    "%autoreload 2"
   ]
  },
  {
   "cell_type": "code",
   "execution_count": 3,
   "metadata": {},
   "outputs": [
    {
     "data": {
      "text/plain": [
       "'/Users/austinclime/vs_code_projects/taq_data_pull_new'"
      ]
     },
     "execution_count": 3,
     "metadata": {},
     "output_type": "execute_result"
    }
   ],
   "source": [
    "import os\n",
    "os.getcwd()"
   ]
  },
  {
   "cell_type": "markdown",
   "metadata": {},
   "source": [
    "# Checking Box and WRDS (optional)"
   ]
  },
  {
   "cell_type": "code",
   "execution_count": 5,
   "metadata": {},
   "outputs": [],
   "source": [
    "from box_client_new import make_client\n",
    "client=make_client()"
   ]
  },
  {
   "cell_type": "code",
   "execution_count": 6,
   "metadata": {},
   "outputs": [
    {
     "name": "stdout",
     "output_type": "stream",
     "text": [
      "Loading library list...\n",
      "Done\n"
     ]
    }
   ],
   "source": [
    "from wrds_creds import read_pgpass\n",
    "wrds_username,wrds_password=read_pgpass()\n",
    "\n",
    "import wrds\n",
    "db = wrds.Connection(wrds_host=\"wrds-pgdata.wharton.upenn.edu\",\n",
    "                     wrds_username=wrds_username,\n",
    "                     wrds_password=wrds_password)"
   ]
  },
  {
   "cell_type": "markdown",
   "metadata": {},
   "source": [
    "# Tutorial"
   ]
  },
  {
   "cell_type": "markdown",
   "metadata": {},
   "source": [
    "## Pull WRDS data and Upload to Box"
   ]
  },
  {
   "cell_type": "code",
   "execution_count": 15,
   "metadata": {},
   "outputs": [
    {
     "data": {
      "text/html": [
       "<div>\n",
       "<style scoped>\n",
       "    .dataframe tbody tr th:only-of-type {\n",
       "        vertical-align: middle;\n",
       "    }\n",
       "\n",
       "    .dataframe tbody tr th {\n",
       "        vertical-align: top;\n",
       "    }\n",
       "\n",
       "    .dataframe thead th {\n",
       "        text-align: right;\n",
       "    }\n",
       "</style>\n",
       "<table border=\"1\" class=\"dataframe\">\n",
       "  <thead>\n",
       "    <tr style=\"text-align: right;\">\n",
       "      <th></th>\n",
       "      <th>date</th>\n",
       "      <th>time_m</th>\n",
       "      <th>time_m_nano</th>\n",
       "      <th>sym_root</th>\n",
       "      <th>sym_suffix</th>\n",
       "      <th>qu_cond</th>\n",
       "      <th>natbbo_ind</th>\n",
       "      <th>qu_source</th>\n",
       "      <th>nbbo_qu_cond</th>\n",
       "      <th>best_bid</th>\n",
       "      <th>best_bidsizeshares</th>\n",
       "      <th>best_ask</th>\n",
       "      <th>best_asksizeshares</th>\n",
       "    </tr>\n",
       "  </thead>\n",
       "  <tbody>\n",
       "    <tr>\n",
       "      <th>0</th>\n",
       "      <td>2022-09-30</td>\n",
       "      <td>09:00:00.009656</td>\n",
       "      <td>938</td>\n",
       "      <td>AAPL</td>\n",
       "      <td>&lt;NA&gt;</td>\n",
       "      <td>R</td>\n",
       "      <td>2</td>\n",
       "      <td>N</td>\n",
       "      <td>&lt;NA&gt;</td>\n",
       "      <td>141.78</td>\n",
       "      <td>100</td>\n",
       "      <td>141.81</td>\n",
       "      <td>200</td>\n",
       "    </tr>\n",
       "    <tr>\n",
       "      <th>1</th>\n",
       "      <td>2022-09-30</td>\n",
       "      <td>09:00:00.011748</td>\n",
       "      <td>695</td>\n",
       "      <td>AAPL</td>\n",
       "      <td>&lt;NA&gt;</td>\n",
       "      <td>R</td>\n",
       "      <td>2</td>\n",
       "      <td>N</td>\n",
       "      <td>&lt;NA&gt;</td>\n",
       "      <td>141.77</td>\n",
       "      <td>100</td>\n",
       "      <td>141.81</td>\n",
       "      <td>200</td>\n",
       "    </tr>\n",
       "    <tr>\n",
       "      <th>2</th>\n",
       "      <td>2022-09-30</td>\n",
       "      <td>09:00:00.105836</td>\n",
       "      <td>307</td>\n",
       "      <td>AAPL</td>\n",
       "      <td>&lt;NA&gt;</td>\n",
       "      <td>R</td>\n",
       "      <td>2</td>\n",
       "      <td>N</td>\n",
       "      <td>&lt;NA&gt;</td>\n",
       "      <td>141.75</td>\n",
       "      <td>1800</td>\n",
       "      <td>141.81</td>\n",
       "      <td>200</td>\n",
       "    </tr>\n",
       "    <tr>\n",
       "      <th>3</th>\n",
       "      <td>2022-09-30</td>\n",
       "      <td>09:00:00.231298</td>\n",
       "      <td>356</td>\n",
       "      <td>AAPL</td>\n",
       "      <td>&lt;NA&gt;</td>\n",
       "      <td>R</td>\n",
       "      <td>2</td>\n",
       "      <td>N</td>\n",
       "      <td>&lt;NA&gt;</td>\n",
       "      <td>141.77</td>\n",
       "      <td>100</td>\n",
       "      <td>141.81</td>\n",
       "      <td>200</td>\n",
       "    </tr>\n",
       "    <tr>\n",
       "      <th>4</th>\n",
       "      <td>2022-09-30</td>\n",
       "      <td>09:00:00.443931</td>\n",
       "      <td>912</td>\n",
       "      <td>AAPL</td>\n",
       "      <td>&lt;NA&gt;</td>\n",
       "      <td>R</td>\n",
       "      <td>2</td>\n",
       "      <td>N</td>\n",
       "      <td>&lt;NA&gt;</td>\n",
       "      <td>141.75</td>\n",
       "      <td>1800</td>\n",
       "      <td>141.81</td>\n",
       "      <td>200</td>\n",
       "    </tr>\n",
       "  </tbody>\n",
       "</table>\n",
       "</div>"
      ],
      "text/plain": [
       "         date           time_m  time_m_nano sym_root sym_suffix qu_cond  \\\n",
       "0  2022-09-30  09:00:00.009656          938     AAPL       <NA>       R   \n",
       "1  2022-09-30  09:00:00.011748          695     AAPL       <NA>       R   \n",
       "2  2022-09-30  09:00:00.105836          307     AAPL       <NA>       R   \n",
       "3  2022-09-30  09:00:00.231298          356     AAPL       <NA>       R   \n",
       "4  2022-09-30  09:00:00.443931          912     AAPL       <NA>       R   \n",
       "\n",
       "  natbbo_ind qu_source nbbo_qu_cond  best_bid  best_bidsizeshares  best_ask  \\\n",
       "0          2         N         <NA>    141.78                 100    141.81   \n",
       "1          2         N         <NA>    141.77                 100    141.81   \n",
       "2          2         N         <NA>    141.75                1800    141.81   \n",
       "3          2         N         <NA>    141.77                 100    141.81   \n",
       "4          2         N         <NA>    141.75                1800    141.81   \n",
       "\n",
       "   best_asksizeshares  \n",
       "0                 200  \n",
       "1                 200  \n",
       "2                 200  \n",
       "3                 200  \n",
       "4                 200  "
      ]
     },
     "metadata": {},
     "output_type": "display_data"
    },
    {
     "name": "stderr",
     "output_type": "stream",
     "text": [
      "\u001b[31mRequest \"POST https://upload.box.com/api/2.0/files/1822297989172/content\" failed with ConnectionError exception: ConnectionError(ProtocolError('Connection aborted.', BrokenPipeError(32, 'Broken pipe')))\u001b[0m\n"
     ]
    },
    {
     "data": {
      "text/html": [
       "<div>\n",
       "<style scoped>\n",
       "    .dataframe tbody tr th:only-of-type {\n",
       "        vertical-align: middle;\n",
       "    }\n",
       "\n",
       "    .dataframe tbody tr th {\n",
       "        vertical-align: top;\n",
       "    }\n",
       "\n",
       "    .dataframe thead th {\n",
       "        text-align: right;\n",
       "    }\n",
       "</style>\n",
       "<table border=\"1\" class=\"dataframe\">\n",
       "  <thead>\n",
       "    <tr style=\"text-align: right;\">\n",
       "      <th></th>\n",
       "      <th>date</th>\n",
       "      <th>time_m</th>\n",
       "      <th>time_m_nano</th>\n",
       "      <th>sym_root</th>\n",
       "      <th>sym_suffix</th>\n",
       "      <th>qu_cond</th>\n",
       "      <th>natbbo_ind</th>\n",
       "      <th>qu_source</th>\n",
       "      <th>nbbo_qu_cond</th>\n",
       "      <th>best_bid</th>\n",
       "      <th>best_bidsizeshares</th>\n",
       "      <th>best_ask</th>\n",
       "      <th>best_asksizeshares</th>\n",
       "    </tr>\n",
       "  </thead>\n",
       "  <tbody>\n",
       "    <tr>\n",
       "      <th>0</th>\n",
       "      <td>2022-10-31</td>\n",
       "      <td>09:00:02.031345</td>\n",
       "      <td>357</td>\n",
       "      <td>AAPL</td>\n",
       "      <td>&lt;NA&gt;</td>\n",
       "      <td>R</td>\n",
       "      <td>2</td>\n",
       "      <td>N</td>\n",
       "      <td>&lt;NA&gt;</td>\n",
       "      <td>153.78</td>\n",
       "      <td>300</td>\n",
       "      <td>153.81</td>\n",
       "      <td>200</td>\n",
       "    </tr>\n",
       "    <tr>\n",
       "      <th>1</th>\n",
       "      <td>2022-10-31</td>\n",
       "      <td>09:00:02.031735</td>\n",
       "      <td>694</td>\n",
       "      <td>AAPL</td>\n",
       "      <td>&lt;NA&gt;</td>\n",
       "      <td>R</td>\n",
       "      <td>2</td>\n",
       "      <td>N</td>\n",
       "      <td>&lt;NA&gt;</td>\n",
       "      <td>153.78</td>\n",
       "      <td>300</td>\n",
       "      <td>153.8</td>\n",
       "      <td>100</td>\n",
       "    </tr>\n",
       "    <tr>\n",
       "      <th>2</th>\n",
       "      <td>2022-10-31</td>\n",
       "      <td>09:00:02.031808</td>\n",
       "      <td>40</td>\n",
       "      <td>AAPL</td>\n",
       "      <td>&lt;NA&gt;</td>\n",
       "      <td>R</td>\n",
       "      <td>2</td>\n",
       "      <td>N</td>\n",
       "      <td>&lt;NA&gt;</td>\n",
       "      <td>153.78</td>\n",
       "      <td>300</td>\n",
       "      <td>153.81</td>\n",
       "      <td>200</td>\n",
       "    </tr>\n",
       "    <tr>\n",
       "      <th>3</th>\n",
       "      <td>2022-10-31</td>\n",
       "      <td>09:00:02.032530</td>\n",
       "      <td>383</td>\n",
       "      <td>AAPL</td>\n",
       "      <td>&lt;NA&gt;</td>\n",
       "      <td>R</td>\n",
       "      <td>2</td>\n",
       "      <td>N</td>\n",
       "      <td>&lt;NA&gt;</td>\n",
       "      <td>153.78</td>\n",
       "      <td>300</td>\n",
       "      <td>153.81</td>\n",
       "      <td>100</td>\n",
       "    </tr>\n",
       "    <tr>\n",
       "      <th>4</th>\n",
       "      <td>2022-10-31</td>\n",
       "      <td>09:00:02.033584</td>\n",
       "      <td>536</td>\n",
       "      <td>AAPL</td>\n",
       "      <td>&lt;NA&gt;</td>\n",
       "      <td>R</td>\n",
       "      <td>4</td>\n",
       "      <td>N</td>\n",
       "      <td>&lt;NA&gt;</td>\n",
       "      <td>153.78</td>\n",
       "      <td>200</td>\n",
       "      <td>153.81</td>\n",
       "      <td>100</td>\n",
       "    </tr>\n",
       "  </tbody>\n",
       "</table>\n",
       "</div>"
      ],
      "text/plain": [
       "         date           time_m  time_m_nano sym_root sym_suffix qu_cond  \\\n",
       "0  2022-10-31  09:00:02.031345          357     AAPL       <NA>       R   \n",
       "1  2022-10-31  09:00:02.031735          694     AAPL       <NA>       R   \n",
       "2  2022-10-31  09:00:02.031808           40     AAPL       <NA>       R   \n",
       "3  2022-10-31  09:00:02.032530          383     AAPL       <NA>       R   \n",
       "4  2022-10-31  09:00:02.033584          536     AAPL       <NA>       R   \n",
       "\n",
       "  natbbo_ind qu_source nbbo_qu_cond  best_bid  best_bidsizeshares  best_ask  \\\n",
       "0          2         N         <NA>    153.78                 300    153.81   \n",
       "1          2         N         <NA>    153.78                 300     153.8   \n",
       "2          2         N         <NA>    153.78                 300    153.81   \n",
       "3          2         N         <NA>    153.78                 300    153.81   \n",
       "4          4         N         <NA>    153.78                 200    153.81   \n",
       "\n",
       "   best_asksizeshares  \n",
       "0                 200  \n",
       "1                 100  \n",
       "2                 200  \n",
       "3                 100  \n",
       "4                 100  "
      ]
     },
     "metadata": {},
     "output_type": "display_data"
    }
   ],
   "source": [
    "from taq_pull import get_nbbo_tick_by_day \n",
    "from box_client_new import upload_to_box\n",
    "\n",
    "ticker = 'AAPL'\n",
    "day = '20220930'\n",
    "nbbo_df_1 = get_nbbo_tick_by_day(ticker,day)\n",
    "nbbo_df_1\n",
    "display(nbbo_df_1.head())\n",
    "dest=fr'outputs/taq_test_{ticker}_{day}.parquet'\n",
    "nbbo_df_1.to_parquet(dest,engine='pyarrow')\n",
    "upload_to_box(dest,dest.split(r'/')[-1])\n",
    "\n",
    "day = '20221031'\n",
    "nbbo_df_2 = get_nbbo_tick_by_day(ticker,day)\n",
    "display(nbbo_df_2.head())\n",
    "dest=fr'outputs/taq_test_{ticker}_{day}.parquet'\n",
    "nbbo_df_2.to_parquet(dest,engine='pyarrow')\n",
    "upload_to_box(dest,dest.split(r'/')[-1])"
   ]
  },
  {
   "cell_type": "markdown",
   "metadata": {},
   "source": [
    "## Pull Files of Box"
   ]
  },
  {
   "cell_type": "code",
   "execution_count": null,
   "metadata": {},
   "outputs": [],
   "source": []
  },
  {
   "cell_type": "code",
   "execution_count": null,
   "metadata": {},
   "outputs": [],
   "source": []
  }
 ],
 "metadata": {
  "kernelspec": {
   "display_name": "env",
   "language": "python",
   "name": "python3"
  },
  "language_info": {
   "codemirror_mode": {
    "name": "ipython",
    "version": 3
   },
   "file_extension": ".py",
   "mimetype": "text/x-python",
   "name": "python",
   "nbconvert_exporter": "python",
   "pygments_lexer": "ipython3",
   "version": "3.13.2"
  }
 },
 "nbformat": 4,
 "nbformat_minor": 2
}
