{
 "cells": [
  {
   "cell_type": "code",
   "execution_count": 1,
   "id": "8701f00c-2c71-464c-a687-cf6f7f85ea24",
   "metadata": {
    "tags": []
   },
   "outputs": [],
   "source": [
    "%load_ext autoreload\n",
    "%autoreload 2"
   ]
  },
  {
   "cell_type": "code",
   "execution_count": 1,
   "id": "8ec2d9d0",
   "metadata": {},
   "outputs": [
    {
     "data": {
      "text/plain": [
       "'/Users/austinclime/vs_code_projects/taq_data_pull/python_code'"
      ]
     },
     "execution_count": 1,
     "metadata": {},
     "output_type": "execute_result"
    }
   ],
   "source": [
    "import os\n",
    "os.getcwd()"
   ]
  },
  {
   "cell_type": "code",
   "execution_count": 3,
   "id": "3839a086",
   "metadata": {},
   "outputs": [
    {
     "data": {
      "text/plain": [
       "['testing.ipynb', '__pycache__', 'wrds', 'nbbo_query.py', 'db_connection.py']"
      ]
     },
     "execution_count": 3,
     "metadata": {},
     "output_type": "execute_result"
    }
   ],
   "source": [
    "os.listdir()"
   ]
  },
  {
   "cell_type": "code",
   "execution_count": 7,
   "id": "4a834308",
   "metadata": {},
   "outputs": [],
   "source": [
    "import wrds"
   ]
  },
  {
   "cell_type": "code",
   "execution_count": 9,
   "id": "006cd872",
   "metadata": {},
   "outputs": [
    {
     "name": "stdout",
     "output_type": "stream",
     "text": [
      "WRDS recommends setting up a .pgpass file.\n",
      "Created .pgpass file successfully.\n",
      "You can create this file yourself at any time with the create_pgpass_file() function.\n",
      "Loading library list...\n",
      "Done\n"
     ]
    }
   ],
   "source": [
    "db = wrds.Connection(wrds_username='aclime2')\n",
    "#db.create_pgpass_file()#aclime2"
   ]
  },
  {
   "cell_type": "code",
   "execution_count": 10,
   "id": "d9c749ec",
   "metadata": {},
   "outputs": [
    {
     "data": {
      "text/html": [
       "<div>\n",
       "<style scoped>\n",
       "    .dataframe tbody tr th:only-of-type {\n",
       "        vertical-align: middle;\n",
       "    }\n",
       "\n",
       "    .dataframe tbody tr th {\n",
       "        vertical-align: top;\n",
       "    }\n",
       "\n",
       "    .dataframe thead th {\n",
       "        text-align: right;\n",
       "    }\n",
       "</style>\n",
       "<table border=\"1\" class=\"dataframe\">\n",
       "  <thead>\n",
       "    <tr style=\"text-align: right;\">\n",
       "      <th></th>\n",
       "      <th>time_m</th>\n",
       "      <th>best_bid</th>\n",
       "      <th>hr_avg_pr</th>\n",
       "      <th>diff</th>\n",
       "    </tr>\n",
       "  </thead>\n",
       "  <tbody>\n",
       "    <tr>\n",
       "      <th>0</th>\n",
       "      <td>04:00</td>\n",
       "      <td>141.85</td>\n",
       "      <td>143.21</td>\n",
       "      <td>-1.36</td>\n",
       "    </tr>\n",
       "    <tr>\n",
       "      <th>1</th>\n",
       "      <td>04:01</td>\n",
       "      <td>143.38</td>\n",
       "      <td>143.21</td>\n",
       "      <td>0.17</td>\n",
       "    </tr>\n",
       "    <tr>\n",
       "      <th>2</th>\n",
       "      <td>04:02</td>\n",
       "      <td>143.24</td>\n",
       "      <td>143.21</td>\n",
       "      <td>0.03</td>\n",
       "    </tr>\n",
       "    <tr>\n",
       "      <th>3</th>\n",
       "      <td>04:03</td>\n",
       "      <td>143.31</td>\n",
       "      <td>143.21</td>\n",
       "      <td>0.10</td>\n",
       "    </tr>\n",
       "    <tr>\n",
       "      <th>4</th>\n",
       "      <td>04:04</td>\n",
       "      <td>143.24</td>\n",
       "      <td>143.21</td>\n",
       "      <td>0.03</td>\n",
       "    </tr>\n",
       "  </tbody>\n",
       "</table>\n",
       "</div>"
      ],
      "text/plain": [
       "  time_m  best_bid  hr_avg_pr  diff\n",
       "0  04:00    141.85     143.21 -1.36\n",
       "1  04:01    143.38     143.21  0.17\n",
       "2  04:02    143.24     143.21  0.03\n",
       "3  04:03    143.31     143.21  0.10\n",
       "4  04:04    143.24     143.21  0.03"
      ]
     },
     "execution_count": 10,
     "metadata": {},
     "output_type": "execute_result"
    }
   ],
   "source": [
    "df = db.raw_sql(\"\"\"\n",
    "    SELECT\n",
    "        SUBSTR(time_m::VARCHAR,1,5) AS time_m,\n",
    "        best_bid,\n",
    "        ROUND(hr_avg_prc,2) AS hr_avg_pr,\n",
    "        best_bid - ROUND(hr_avg_prc,2) AS diff\n",
    "    FROM\n",
    "        (\n",
    "            SELECT\n",
    "                *,\n",
    "                RANK() OVER (PARTITION BY sym_root, date, EXTRACT (HOUR FROM time_m), EXTRACT (MINUTE FROM time_m) ORDER BY time_m, time_m_nano) AS minute_rank,\n",
    "                AVG(best_bid) OVER (PARTITION BY sym_root, date, EXTRACT (HOUR FROM time_m)) AS hr_avg_prc\n",
    "            FROM\n",
    "                taqm_2022.complete_nbbo_2022\n",
    "            WHERE\n",
    "                sym_root = 'AAPL' AND\n",
    "                date = '20220930' \n",
    "        ) a\n",
    "    WHERE\n",
    "        minute_rank = 1\n",
    "    ORDER BY\n",
    "        1\n",
    "     \"\"\")\n",
    "df.head()"
   ]
  },
  {
   "cell_type": "code",
   "execution_count": 1,
   "id": "8c244b84-2bde-4652-8b90-3881c7f83699",
   "metadata": {
    "tags": []
   },
   "outputs": [
    {
     "ename": "ModuleNotFoundError",
     "evalue": "No module named 'wrds'",
     "output_type": "error",
     "traceback": [
      "\u001b[0;31m---------------------------------------------------------------------------\u001b[0m",
      "\u001b[0;31mModuleNotFoundError\u001b[0m                       Traceback (most recent call last)",
      "\u001b[0;32m<ipython-input-1-8aed0a3a2b03>\u001b[0m in \u001b[0;36m<module>\u001b[0;34m\u001b[0m\n\u001b[0;32m----> 1\u001b[0;31m \u001b[0;32mfrom\u001b[0m \u001b[0mdb_connection\u001b[0m \u001b[0;32mimport\u001b[0m \u001b[0mget_db_connection\u001b[0m\u001b[0;34m\u001b[0m\u001b[0;34m\u001b[0m\u001b[0m\n\u001b[0m\u001b[1;32m      2\u001b[0m \u001b[0mdb\u001b[0m\u001b[0;34m=\u001b[0m\u001b[0mget_db_connection\u001b[0m\u001b[0;34m(\u001b[0m\u001b[0;34m)\u001b[0m\u001b[0;34m\u001b[0m\u001b[0;34m\u001b[0m\u001b[0m\n",
      "\u001b[0;32m~/vs_code_projects/taq_data_pull/python_code/db_connection.py\u001b[0m in \u001b[0;36m<module>\u001b[0;34m\u001b[0m\n\u001b[0;32m----> 1\u001b[0;31m \u001b[0;32mimport\u001b[0m \u001b[0mwrds\u001b[0m\u001b[0;34m\u001b[0m\u001b[0;34m\u001b[0m\u001b[0m\n\u001b[0m\u001b[1;32m      2\u001b[0m \u001b[0;32mdef\u001b[0m \u001b[0mget_db_connection\u001b[0m\u001b[0;34m(\u001b[0m\u001b[0;34m)\u001b[0m\u001b[0;34m:\u001b[0m\u001b[0;34m\u001b[0m\u001b[0;34m\u001b[0m\u001b[0m\n\u001b[1;32m      3\u001b[0m     \u001b[0mdb\u001b[0m \u001b[0;34m=\u001b[0m \u001b[0mwrds\u001b[0m\u001b[0;34m.\u001b[0m\u001b[0mConnection\u001b[0m\u001b[0;34m(\u001b[0m\u001b[0;34m)\u001b[0m\u001b[0;34m\u001b[0m\u001b[0;34m\u001b[0m\u001b[0m\n\u001b[1;32m      4\u001b[0m     \u001b[0;32mreturn\u001b[0m \u001b[0mdb\u001b[0m\u001b[0;34m\u001b[0m\u001b[0;34m\u001b[0m\u001b[0m\n",
      "\u001b[0;31mModuleNotFoundError\u001b[0m: No module named 'wrds'"
     ]
    }
   ],
   "source": [
    "from db_connection import get_db_connection\n",
    "db=get_db_connection()"
   ]
  },
  {
   "cell_type": "code",
   "execution_count": 4,
   "id": "33f10d6c-bc58-4b05-9011-90543bbdb61b",
   "metadata": {
    "tags": []
   },
   "outputs": [],
   "source": [
    "from nbbo_query import make_req"
   ]
  },
  {
   "cell_type": "code",
   "execution_count": 7,
   "id": "4d10e4ce-99f3-4e3a-a039-a5518bc94028",
   "metadata": {
    "tags": []
   },
   "outputs": [],
   "source": [
    "req=make_req('AAPL',2022,9,30)\n",
    "df = db.raw_sql(req)"
   ]
  },
  {
   "cell_type": "code",
   "execution_count": 8,
   "id": "99d86a2f-0b1e-42c8-89a4-ba5ec4a97413",
   "metadata": {
    "tags": []
   },
   "outputs": [
    {
     "data": {
      "text/html": [
       "<div>\n",
       "<style scoped>\n",
       "    .dataframe tbody tr th:only-of-type {\n",
       "        vertical-align: middle;\n",
       "    }\n",
       "\n",
       "    .dataframe tbody tr th {\n",
       "        vertical-align: top;\n",
       "    }\n",
       "\n",
       "    .dataframe thead th {\n",
       "        text-align: right;\n",
       "    }\n",
       "</style>\n",
       "<table border=\"1\" class=\"dataframe\">\n",
       "  <thead>\n",
       "    <tr style=\"text-align: right;\">\n",
       "      <th></th>\n",
       "      <th>time_m</th>\n",
       "      <th>best_bid</th>\n",
       "      <th>best_ask</th>\n",
       "    </tr>\n",
       "  </thead>\n",
       "  <tbody>\n",
       "    <tr>\n",
       "      <th>0</th>\n",
       "      <td>09:30</td>\n",
       "      <td>141.23</td>\n",
       "      <td>141.34</td>\n",
       "    </tr>\n",
       "    <tr>\n",
       "      <th>1</th>\n",
       "      <td>09:31</td>\n",
       "      <td>141.67</td>\n",
       "      <td>141.70</td>\n",
       "    </tr>\n",
       "    <tr>\n",
       "      <th>2</th>\n",
       "      <td>09:32</td>\n",
       "      <td>142.02</td>\n",
       "      <td>142.04</td>\n",
       "    </tr>\n",
       "    <tr>\n",
       "      <th>3</th>\n",
       "      <td>09:33</td>\n",
       "      <td>142.20</td>\n",
       "      <td>142.21</td>\n",
       "    </tr>\n",
       "    <tr>\n",
       "      <th>4</th>\n",
       "      <td>09:34</td>\n",
       "      <td>142.47</td>\n",
       "      <td>142.48</td>\n",
       "    </tr>\n",
       "    <tr>\n",
       "      <th>...</th>\n",
       "      <td>...</td>\n",
       "      <td>...</td>\n",
       "      <td>...</td>\n",
       "    </tr>\n",
       "    <tr>\n",
       "      <th>385</th>\n",
       "      <td>15:55</td>\n",
       "      <td>138.68</td>\n",
       "      <td>138.70</td>\n",
       "    </tr>\n",
       "    <tr>\n",
       "      <th>386</th>\n",
       "      <td>15:56</td>\n",
       "      <td>138.42</td>\n",
       "      <td>138.43</td>\n",
       "    </tr>\n",
       "    <tr>\n",
       "      <th>387</th>\n",
       "      <td>15:57</td>\n",
       "      <td>138.32</td>\n",
       "      <td>138.33</td>\n",
       "    </tr>\n",
       "    <tr>\n",
       "      <th>388</th>\n",
       "      <td>15:58</td>\n",
       "      <td>138.26</td>\n",
       "      <td>138.27</td>\n",
       "    </tr>\n",
       "    <tr>\n",
       "      <th>389</th>\n",
       "      <td>15:59</td>\n",
       "      <td>138.23</td>\n",
       "      <td>138.24</td>\n",
       "    </tr>\n",
       "  </tbody>\n",
       "</table>\n",
       "<p>390 rows × 3 columns</p>\n",
       "</div>"
      ],
      "text/plain": [
       "    time_m  best_bid  best_ask\n",
       "0    09:30    141.23    141.34\n",
       "1    09:31    141.67    141.70\n",
       "2    09:32    142.02    142.04\n",
       "3    09:33    142.20    142.21\n",
       "4    09:34    142.47    142.48\n",
       "..     ...       ...       ...\n",
       "385  15:55    138.68    138.70\n",
       "386  15:56    138.42    138.43\n",
       "387  15:57    138.32    138.33\n",
       "388  15:58    138.26    138.27\n",
       "389  15:59    138.23    138.24\n",
       "\n",
       "[390 rows x 3 columns]"
      ]
     },
     "execution_count": 8,
     "metadata": {},
     "output_type": "execute_result"
    }
   ],
   "source": [
    "df"
   ]
  }
 ],
 "metadata": {
  "kernelspec": {
   "display_name": "env",
   "language": "python",
   "name": "python3"
  },
  "language_info": {
   "codemirror_mode": {
    "name": "ipython",
    "version": 3
   },
   "file_extension": ".py",
   "mimetype": "text/x-python",
   "name": "python",
   "nbconvert_exporter": "python",
   "pygments_lexer": "ipython3",
   "version": "3.8.5"
  }
 },
 "nbformat": 4,
 "nbformat_minor": 5
}
