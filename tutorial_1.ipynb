{
 "cells": [
  {
   "cell_type": "code",
   "execution_count": 2,
   "metadata": {},
   "outputs": [
    {
     "name": "stdout",
     "output_type": "stream",
     "text": [
      "The autoreload extension is already loaded. To reload it, use:\n",
      "  %reload_ext autoreload\n"
     ]
    }
   ],
   "source": [
    "%load_ext autoreload\n",
    "%autoreload 2"
   ]
  },
  {
   "cell_type": "code",
   "execution_count": 3,
   "metadata": {},
   "outputs": [
    {
     "data": {
      "text/plain": [
       "'/Users/austinclime/vs_code_projects/taq_data_pull_new'"
      ]
     },
     "execution_count": 3,
     "metadata": {},
     "output_type": "execute_result"
    }
   ],
   "source": [
    "import os\n",
    "os.getcwd()"
   ]
  },
  {
   "cell_type": "markdown",
   "metadata": {},
   "source": [
    "# Checking Box and WRDS (optional)"
   ]
  },
  {
   "cell_type": "code",
   "execution_count": 5,
   "metadata": {},
   "outputs": [],
   "source": [
    "from box_client_new import make_client\n",
    "client=make_client()"
   ]
  },
  {
   "cell_type": "code",
   "execution_count": 6,
   "metadata": {},
   "outputs": [
    {
     "name": "stdout",
     "output_type": "stream",
     "text": [
      "Loading library list...\n",
      "Done\n"
     ]
    }
   ],
   "source": [
    "from wrds_creds import read_pgpass\n",
    "wrds_username,wrds_password=read_pgpass()\n",
    "\n",
    "import wrds\n",
    "db = wrds.Connection(wrds_host=\"wrds-pgdata.wharton.upenn.edu\",\n",
    "                     wrds_username=wrds_username,\n",
    "                     wrds_password=wrds_password)"
   ]
  },
  {
   "cell_type": "markdown",
   "metadata": {},
   "source": [
    "# Tutorial"
   ]
  },
  {
   "cell_type": "code",
   "execution_count": 12,
   "metadata": {},
   "outputs": [
    {
     "data": {
      "text/html": [
       "<div>\n",
       "<style scoped>\n",
       "    .dataframe tbody tr th:only-of-type {\n",
       "        vertical-align: middle;\n",
       "    }\n",
       "\n",
       "    .dataframe tbody tr th {\n",
       "        vertical-align: top;\n",
       "    }\n",
       "\n",
       "    .dataframe thead th {\n",
       "        text-align: right;\n",
       "    }\n",
       "</style>\n",
       "<table border=\"1\" class=\"dataframe\">\n",
       "  <thead>\n",
       "    <tr style=\"text-align: right;\">\n",
       "      <th></th>\n",
       "      <th>time_m</th>\n",
       "      <th>best_bid</th>\n",
       "      <th>hr_avg_pr</th>\n",
       "      <th>diff</th>\n",
       "    </tr>\n",
       "  </thead>\n",
       "  <tbody>\n",
       "    <tr>\n",
       "      <th>0</th>\n",
       "      <td>04:00</td>\n",
       "      <td>141.85</td>\n",
       "      <td>143.21</td>\n",
       "      <td>-1.36</td>\n",
       "    </tr>\n",
       "    <tr>\n",
       "      <th>1</th>\n",
       "      <td>04:01</td>\n",
       "      <td>143.38</td>\n",
       "      <td>143.21</td>\n",
       "      <td>0.17</td>\n",
       "    </tr>\n",
       "    <tr>\n",
       "      <th>2</th>\n",
       "      <td>04:02</td>\n",
       "      <td>143.24</td>\n",
       "      <td>143.21</td>\n",
       "      <td>0.03</td>\n",
       "    </tr>\n",
       "    <tr>\n",
       "      <th>3</th>\n",
       "      <td>04:03</td>\n",
       "      <td>143.31</td>\n",
       "      <td>143.21</td>\n",
       "      <td>0.1</td>\n",
       "    </tr>\n",
       "    <tr>\n",
       "      <th>4</th>\n",
       "      <td>04:04</td>\n",
       "      <td>143.24</td>\n",
       "      <td>143.21</td>\n",
       "      <td>0.03</td>\n",
       "    </tr>\n",
       "  </tbody>\n",
       "</table>\n",
       "</div>"
      ],
      "text/plain": [
       "  time_m  best_bid  hr_avg_pr  diff\n",
       "0  04:00    141.85     143.21 -1.36\n",
       "1  04:01    143.38     143.21  0.17\n",
       "2  04:02    143.24     143.21  0.03\n",
       "3  04:03    143.31     143.21   0.1\n",
       "4  04:04    143.24     143.21  0.03"
      ]
     },
     "metadata": {},
     "output_type": "display_data"
    },
    {
     "name": "stderr",
     "output_type": "stream",
     "text": [
      "\u001b[31m\"POST https://upload.box.com/api/2.0/files/content\" 409 489\n",
      "{'server': 'nginx', 'date': 'Wed, 02 Apr 2025 14:36:29 GMT', 'content-type': 'application/json', 'Content-Length': '489', 'cache-control': 'no-cache, no-store', 'x-envoy-upstream-service-time': '858', 'strict-transport-security': 'max-age=31536000', 'via': '1.1 google', 'Alt-Svc': 'h3=\":443\"; ma=2592000,h3-29=\":443\"; ma=2592000'}\n",
      "<No content or content unavailable for logging>\n",
      "\u001b[0m\n"
     ]
    },
    {
     "ename": "BoxAPIException",
     "evalue": "Message: Item with the same name already exists\nStatus: 409\nCode: item_name_in_use\nRequest ID: uhkhfsi02ub5by17\nHeaders: {'server': 'nginx', 'date': 'Wed, 02 Apr 2025 14:36:29 GMT', 'content-type': 'application/json', 'Content-Length': '489', 'cache-control': 'no-cache, no-store', 'x-envoy-upstream-service-time': '858', 'strict-transport-security': 'max-age=31536000', 'via': '1.1 google', 'Alt-Svc': 'h3=\":443\"; ma=2592000,h3-29=\":443\"; ma=2592000'}\nURL: https://upload.box.com/api/2.0/files/content\nMethod: POST\nContext Info: {'conflicts': {'type': 'file', 'id': '1822297989172', 'file_version': {'type': 'file_version', 'id': '2008807756372', 'sha1': 'a014060372f82f7e56dd6323b32f6d86b4dbddd0'}, 'sequence_id': '0', 'etag': '0', 'sha1': 'a014060372f82f7e56dd6323b32f6d86b4dbddd0', 'name': 'taq_test_AAPL_20220930.parquet'}}",
     "output_type": "error",
     "traceback": [
      "\u001b[31m---------------------------------------------------------------------------\u001b[39m",
      "\u001b[31mBoxAPIException\u001b[39m                           Traceback (most recent call last)",
      "\u001b[36mCell\u001b[39m\u001b[36m \u001b[39m\u001b[32mIn[12]\u001b[39m\u001b[32m, line 11\u001b[39m\n\u001b[32m      9\u001b[39m dest=\u001b[33mfr\u001b[39m\u001b[33m'\u001b[39m\u001b[33moutputs/taq_test_\u001b[39m\u001b[38;5;132;01m{\u001b[39;00mticker\u001b[38;5;132;01m}\u001b[39;00m\u001b[33m_\u001b[39m\u001b[38;5;132;01m{\u001b[39;00mday\u001b[38;5;132;01m}\u001b[39;00m\u001b[33m.parquet\u001b[39m\u001b[33m'\u001b[39m\n\u001b[32m     10\u001b[39m nbbo_df_1.to_parquet(dest,engine=\u001b[33m'\u001b[39m\u001b[33mpyarrow\u001b[39m\u001b[33m'\u001b[39m)\n\u001b[32m---> \u001b[39m\u001b[32m11\u001b[39m \u001b[43mupload_to_box\u001b[49m\u001b[43m(\u001b[49m\u001b[43mdest\u001b[49m\u001b[43m,\u001b[49m\u001b[43mdest\u001b[49m\u001b[43m.\u001b[49m\u001b[43msplit\u001b[49m\u001b[43m(\u001b[49m\u001b[33;43mr\u001b[39;49m\u001b[33;43m'\u001b[39;49m\u001b[33;43m/\u001b[39;49m\u001b[33;43m'\u001b[39;49m\u001b[43m)\u001b[49m\u001b[43m[\u001b[49m\u001b[43m-\u001b[49m\u001b[32;43m1\u001b[39;49m\u001b[43m]\u001b[49m\u001b[43m)\u001b[49m\n\u001b[32m     13\u001b[39m day = \u001b[33m'\u001b[39m\u001b[33m20221031\u001b[39m\u001b[33m'\u001b[39m\n\u001b[32m     14\u001b[39m nbbo_df_2 = get_nbbo_tick_by_day(ticker,day)\n",
      "\u001b[36mFile \u001b[39m\u001b[32m<string>:3\u001b[39m, in \u001b[36mupload_to_box\u001b[39m\u001b[34m(path, name)\u001b[39m\n",
      "\u001b[36mFile \u001b[39m\u001b[32m~/vs_code_projects/taq_data_pull_new/env/lib/python3.13/site-packages/boxsdk/util/api_call_decorator.py:63\u001b[39m, in \u001b[36mAPICallWrapper.__get__.<locals>.call\u001b[39m\u001b[34m(instance, *args, **kwargs)\u001b[39m\n\u001b[32m     60\u001b[39m     instance = instance.clone(instance.session.with_default_network_request_kwargs(extra_network_parameters))\n\u001b[32m     62\u001b[39m method = \u001b[38;5;28mself\u001b[39m._func_that_makes_an_api_call.\u001b[34m__get__\u001b[39m(instance, owner)\n\u001b[32m---> \u001b[39m\u001b[32m63\u001b[39m \u001b[38;5;28;01mreturn\u001b[39;00m \u001b[43mmethod\u001b[49m\u001b[43m(\u001b[49m\u001b[43m*\u001b[49m\u001b[43margs\u001b[49m\u001b[43m,\u001b[49m\u001b[43m \u001b[49m\u001b[43m*\u001b[49m\u001b[43m*\u001b[49m\u001b[43mkwargs\u001b[49m\u001b[43m)\u001b[49m\n",
      "\u001b[36mFile \u001b[39m\u001b[32m~/vs_code_projects/taq_data_pull_new/env/lib/python3.13/site-packages/boxsdk/object/folder.py:403\u001b[39m, in \u001b[36mFolder.upload\u001b[39m\u001b[34m(self, file_path, file_name, file_description, preflight_check, preflight_expected_size, upload_using_accelerator, content_created_at, content_modified_at, additional_attributes, sha1, etag)\u001b[39m\n\u001b[32m    401\u001b[39m     file_name = os.path.basename(file_path)\n\u001b[32m    402\u001b[39m \u001b[38;5;28;01mwith\u001b[39;00m \u001b[38;5;28mopen\u001b[39m(file_path, \u001b[33m'\u001b[39m\u001b[33mrb\u001b[39m\u001b[33m'\u001b[39m) \u001b[38;5;28;01mas\u001b[39;00m file_stream:\n\u001b[32m--> \u001b[39m\u001b[32m403\u001b[39m     \u001b[38;5;28;01mreturn\u001b[39;00m \u001b[38;5;28;43mself\u001b[39;49m\u001b[43m.\u001b[49m\u001b[43mupload_stream\u001b[49m\u001b[43m(\u001b[49m\n\u001b[32m    404\u001b[39m \u001b[43m        \u001b[49m\u001b[43mfile_stream\u001b[49m\u001b[43m,\u001b[49m\n\u001b[32m    405\u001b[39m \u001b[43m        \u001b[49m\u001b[43mfile_name\u001b[49m\u001b[43m,\u001b[49m\n\u001b[32m    406\u001b[39m \u001b[43m        \u001b[49m\u001b[43mfile_description\u001b[49m\u001b[43m,\u001b[49m\n\u001b[32m    407\u001b[39m \u001b[43m        \u001b[49m\u001b[43mpreflight_check\u001b[49m\u001b[43m,\u001b[49m\n\u001b[32m    408\u001b[39m \u001b[43m        \u001b[49m\u001b[43mpreflight_expected_size\u001b[49m\u001b[43m=\u001b[49m\u001b[43mpreflight_expected_size\u001b[49m\u001b[43m,\u001b[49m\n\u001b[32m    409\u001b[39m \u001b[43m        \u001b[49m\u001b[43mupload_using_accelerator\u001b[49m\u001b[43m=\u001b[49m\u001b[43mupload_using_accelerator\u001b[49m\u001b[43m,\u001b[49m\n\u001b[32m    410\u001b[39m \u001b[43m        \u001b[49m\u001b[43mcontent_created_at\u001b[49m\u001b[43m=\u001b[49m\u001b[43mcontent_created_at\u001b[49m\u001b[43m,\u001b[49m\n\u001b[32m    411\u001b[39m \u001b[43m        \u001b[49m\u001b[43mcontent_modified_at\u001b[49m\u001b[43m=\u001b[49m\u001b[43mcontent_modified_at\u001b[49m\u001b[43m,\u001b[49m\n\u001b[32m    412\u001b[39m \u001b[43m        \u001b[49m\u001b[43madditional_attributes\u001b[49m\u001b[43m=\u001b[49m\u001b[43madditional_attributes\u001b[49m\u001b[43m,\u001b[49m\n\u001b[32m    413\u001b[39m \u001b[43m        \u001b[49m\u001b[43msha1\u001b[49m\u001b[43m=\u001b[49m\u001b[43msha1\u001b[49m\u001b[43m,\u001b[49m\n\u001b[32m    414\u001b[39m \u001b[43m        \u001b[49m\u001b[43metag\u001b[49m\u001b[43m=\u001b[49m\u001b[43metag\u001b[49m\u001b[43m,\u001b[49m\n\u001b[32m    415\u001b[39m \u001b[43m    \u001b[49m\u001b[43m)\u001b[49m\n",
      "\u001b[36mFile \u001b[39m\u001b[32m~/vs_code_projects/taq_data_pull_new/env/lib/python3.13/site-packages/boxsdk/util/api_call_decorator.py:63\u001b[39m, in \u001b[36mAPICallWrapper.__get__.<locals>.call\u001b[39m\u001b[34m(instance, *args, **kwargs)\u001b[39m\n\u001b[32m     60\u001b[39m     instance = instance.clone(instance.session.with_default_network_request_kwargs(extra_network_parameters))\n\u001b[32m     62\u001b[39m method = \u001b[38;5;28mself\u001b[39m._func_that_makes_an_api_call.\u001b[34m__get__\u001b[39m(instance, owner)\n\u001b[32m---> \u001b[39m\u001b[32m63\u001b[39m \u001b[38;5;28;01mreturn\u001b[39;00m \u001b[43mmethod\u001b[49m\u001b[43m(\u001b[49m\u001b[43m*\u001b[49m\u001b[43margs\u001b[49m\u001b[43m,\u001b[49m\u001b[43m \u001b[49m\u001b[43m*\u001b[49m\u001b[43m*\u001b[49m\u001b[43mkwargs\u001b[49m\u001b[43m)\u001b[49m\n",
      "\u001b[36mFile \u001b[39m\u001b[32m~/vs_code_projects/taq_data_pull_new/env/lib/python3.13/site-packages/boxsdk/object/folder.py:337\u001b[39m, in \u001b[36mFolder.upload_stream\u001b[39m\u001b[34m(self, file_stream, file_name, file_description, preflight_check, preflight_expected_size, upload_using_accelerator, content_created_at, content_modified_at, additional_attributes, sha1, etag)\u001b[39m\n\u001b[32m    335\u001b[39m \u001b[38;5;28;01mif\u001b[39;00m \u001b[38;5;129;01mnot\u001b[39;00m headers:\n\u001b[32m    336\u001b[39m     headers = \u001b[38;5;28;01mNone\u001b[39;00m\n\u001b[32m--> \u001b[39m\u001b[32m337\u001b[39m file_response = \u001b[38;5;28;43mself\u001b[39;49m\u001b[43m.\u001b[49m\u001b[43m_session\u001b[49m\u001b[43m.\u001b[49m\u001b[43mpost\u001b[49m\u001b[43m(\u001b[49m\n\u001b[32m    338\u001b[39m \u001b[43m    \u001b[49m\u001b[43murl\u001b[49m\u001b[43m,\u001b[49m\u001b[43m \u001b[49m\u001b[43mdata\u001b[49m\u001b[43m=\u001b[49m\u001b[43mdata\u001b[49m\u001b[43m,\u001b[49m\u001b[43m \u001b[49m\u001b[43mfiles\u001b[49m\u001b[43m=\u001b[49m\u001b[43mfiles\u001b[49m\u001b[43m,\u001b[49m\u001b[43m \u001b[49m\u001b[43mexpect_json_response\u001b[49m\u001b[43m=\u001b[49m\u001b[38;5;28;43;01mFalse\u001b[39;49;00m\u001b[43m,\u001b[49m\u001b[43m \u001b[49m\u001b[43mheaders\u001b[49m\u001b[43m=\u001b[49m\u001b[43mheaders\u001b[49m\n\u001b[32m    339\u001b[39m \u001b[43m\u001b[49m\u001b[43m)\u001b[49m.json()\n\u001b[32m    340\u001b[39m \u001b[38;5;28;01mif\u001b[39;00m \u001b[33m'\u001b[39m\u001b[33mentries\u001b[39m\u001b[33m'\u001b[39m \u001b[38;5;129;01min\u001b[39;00m file_response:\n\u001b[32m    341\u001b[39m     file_response = file_response[\u001b[33m'\u001b[39m\u001b[33mentries\u001b[39m\u001b[33m'\u001b[39m][\u001b[32m0\u001b[39m]\n",
      "\u001b[36mFile \u001b[39m\u001b[32m~/vs_code_projects/taq_data_pull_new/env/lib/python3.13/site-packages/boxsdk/session/session.py:100\u001b[39m, in \u001b[36mSession.post\u001b[39m\u001b[34m(self, url, **kwargs)\u001b[39m\n\u001b[32m     94\u001b[39m \u001b[38;5;28;01mdef\u001b[39;00m\u001b[38;5;250m \u001b[39m\u001b[34mpost\u001b[39m(\u001b[38;5;28mself\u001b[39m, url: \u001b[38;5;28mstr\u001b[39m, **kwargs: Any) -> \u001b[33m'\u001b[39m\u001b[33m_BoxResponse\u001b[39m\u001b[33m'\u001b[39m:\n\u001b[32m     95\u001b[39m \u001b[38;5;250m    \u001b[39m\u001b[33;03m\"\"\"Make a POST request to the Box API.\u001b[39;00m\n\u001b[32m     96\u001b[39m \n\u001b[32m     97\u001b[39m \u001b[33;03m    :param url:\u001b[39;00m\n\u001b[32m     98\u001b[39m \u001b[33;03m        The URL for the request.\u001b[39;00m\n\u001b[32m     99\u001b[39m \u001b[33;03m    \"\"\"\u001b[39;00m\n\u001b[32m--> \u001b[39m\u001b[32m100\u001b[39m     \u001b[38;5;28;01mreturn\u001b[39;00m \u001b[38;5;28;43mself\u001b[39;49m\u001b[43m.\u001b[49m\u001b[43mrequest\u001b[49m\u001b[43m(\u001b[49m\u001b[33;43m'\u001b[39;49m\u001b[33;43mPOST\u001b[39;49m\u001b[33;43m'\u001b[39;49m\u001b[43m,\u001b[49m\u001b[43m \u001b[49m\u001b[43murl\u001b[49m\u001b[43m,\u001b[49m\u001b[43m \u001b[49m\u001b[43m*\u001b[49m\u001b[43m*\u001b[49m\u001b[43mkwargs\u001b[49m\u001b[43m)\u001b[49m\n",
      "\u001b[36mFile \u001b[39m\u001b[32m~/vs_code_projects/taq_data_pull_new/env/lib/python3.13/site-packages/boxsdk/session/session.py:138\u001b[39m, in \u001b[36mSession.request\u001b[39m\u001b[34m(self, method, url, **kwargs)\u001b[39m\n\u001b[32m    130\u001b[39m \u001b[38;5;28;01mdef\u001b[39;00m\u001b[38;5;250m \u001b[39m\u001b[34mrequest\u001b[39m(\u001b[38;5;28mself\u001b[39m, method: \u001b[38;5;28mstr\u001b[39m, url: \u001b[38;5;28mstr\u001b[39m, **kwargs: Any) -> \u001b[33m'\u001b[39m\u001b[33m_BoxResponse\u001b[39m\u001b[33m'\u001b[39m:\n\u001b[32m    131\u001b[39m \u001b[38;5;250m    \u001b[39m\u001b[33;03m\"\"\"Make a request to the Box API.\u001b[39;00m\n\u001b[32m    132\u001b[39m \n\u001b[32m    133\u001b[39m \u001b[33;03m    :param method:\u001b[39;00m\n\u001b[32m   (...)\u001b[39m\u001b[32m    136\u001b[39m \u001b[33;03m        The URL for the request.\u001b[39;00m\n\u001b[32m    137\u001b[39m \u001b[33;03m    \"\"\"\u001b[39;00m\n\u001b[32m--> \u001b[39m\u001b[32m138\u001b[39m     response = \u001b[38;5;28;43mself\u001b[39;49m\u001b[43m.\u001b[49m\u001b[43m_prepare_and_send_request\u001b[49m\u001b[43m(\u001b[49m\u001b[43mmethod\u001b[49m\u001b[43m,\u001b[49m\u001b[43m \u001b[49m\u001b[43murl\u001b[49m\u001b[43m,\u001b[49m\u001b[43m \u001b[49m\u001b[43m*\u001b[49m\u001b[43m*\u001b[49m\u001b[43mkwargs\u001b[49m\u001b[43m)\u001b[49m\n\u001b[32m    139\u001b[39m     \u001b[38;5;28;01mreturn\u001b[39;00m \u001b[38;5;28mself\u001b[39m.box_response_constructor(response)\n",
      "\u001b[36mFile \u001b[39m\u001b[32m~/vs_code_projects/taq_data_pull_new/env/lib/python3.13/site-packages/boxsdk/session/session.py:375\u001b[39m, in \u001b[36mSession._prepare_and_send_request\u001b[39m\u001b[34m(self, method, url, headers, auto_session_renewal, expect_json_response, **kwargs)\u001b[39m\n\u001b[32m    372\u001b[39m     \u001b[38;5;28mself\u001b[39m._logger.debug(\u001b[33m'\u001b[39m\u001b[33mRetrying request\u001b[39m\u001b[33m'\u001b[39m)\n\u001b[32m    373\u001b[39m     network_response = retry(request, **kwargs)\n\u001b[32m--> \u001b[39m\u001b[32m375\u001b[39m \u001b[38;5;28;43mself\u001b[39;49m\u001b[43m.\u001b[49m\u001b[43m_raise_on_unsuccessful_request\u001b[49m\u001b[43m(\u001b[49m\u001b[43mnetwork_response\u001b[49m\u001b[43m,\u001b[49m\u001b[43m \u001b[49m\u001b[43mrequest\u001b[49m\u001b[43m,\u001b[49m\u001b[43m \u001b[49m\u001b[43mraised_exception\u001b[49m\u001b[43m)\u001b[49m\n\u001b[32m    377\u001b[39m \u001b[38;5;28;01mreturn\u001b[39;00m network_response\n",
      "\u001b[36mFile \u001b[39m\u001b[32m~/vs_code_projects/taq_data_pull_new/env/lib/python3.13/site-packages/boxsdk/session/session.py:271\u001b[39m, in \u001b[36mSession._raise_on_unsuccessful_request\u001b[39m\u001b[34m(network_response, request, raised_exception)\u001b[39m\n\u001b[32m    269\u001b[39m     \u001b[38;5;28;01mexcept\u001b[39;00m \u001b[38;5;167;01mValueError\u001b[39;00m:\n\u001b[32m    270\u001b[39m         \u001b[38;5;28;01mpass\u001b[39;00m\n\u001b[32m--> \u001b[39m\u001b[32m271\u001b[39m     \u001b[38;5;28;01mraise\u001b[39;00m BoxAPIException(\n\u001b[32m    272\u001b[39m         status=network_response.status_code,\n\u001b[32m    273\u001b[39m         headers=network_response.headers,\n\u001b[32m    274\u001b[39m         code=response_json.get(\u001b[33m'\u001b[39m\u001b[33mcode\u001b[39m\u001b[33m'\u001b[39m, \u001b[38;5;28;01mNone\u001b[39;00m) \u001b[38;5;129;01mor\u001b[39;00m response_json.get(\u001b[33m'\u001b[39m\u001b[33merror\u001b[39m\u001b[33m'\u001b[39m, \u001b[38;5;28;01mNone\u001b[39;00m),\n\u001b[32m    275\u001b[39m         message=response_json.get(\u001b[33m'\u001b[39m\u001b[33mmessage\u001b[39m\u001b[33m'\u001b[39m, \u001b[38;5;28;01mNone\u001b[39;00m) \u001b[38;5;129;01mor\u001b[39;00m response_json.get(\u001b[33m'\u001b[39m\u001b[33merror_description\u001b[39m\u001b[33m'\u001b[39m, \u001b[38;5;28;01mNone\u001b[39;00m),\n\u001b[32m    276\u001b[39m         request_id=response_json.get(\u001b[33m'\u001b[39m\u001b[33mrequest_id\u001b[39m\u001b[33m'\u001b[39m, \u001b[38;5;28;01mNone\u001b[39;00m),\n\u001b[32m    277\u001b[39m         url=request.url,\n\u001b[32m    278\u001b[39m         method=request.method,\n\u001b[32m    279\u001b[39m         context_info=response_json.get(\u001b[33m'\u001b[39m\u001b[33mcontext_info\u001b[39m\u001b[33m'\u001b[39m, \u001b[38;5;28;01mNone\u001b[39;00m),\n\u001b[32m    280\u001b[39m         network_response=network_response\n\u001b[32m    281\u001b[39m     )\n\u001b[32m    283\u001b[39m \u001b[38;5;28;01mif\u001b[39;00m \u001b[38;5;129;01mnot\u001b[39;00m Session._is_json_response_if_expected(network_response, request):\n\u001b[32m    284\u001b[39m     \u001b[38;5;28;01mraise\u001b[39;00m BoxAPIException(\n\u001b[32m    285\u001b[39m         status=network_response.status_code,\n\u001b[32m    286\u001b[39m         headers=network_response.headers,\n\u001b[32m   (...)\u001b[39m\u001b[32m    290\u001b[39m         network_response=network_response,\n\u001b[32m    291\u001b[39m     )\n",
      "\u001b[31mBoxAPIException\u001b[39m: Message: Item with the same name already exists\nStatus: 409\nCode: item_name_in_use\nRequest ID: uhkhfsi02ub5by17\nHeaders: {'server': 'nginx', 'date': 'Wed, 02 Apr 2025 14:36:29 GMT', 'content-type': 'application/json', 'Content-Length': '489', 'cache-control': 'no-cache, no-store', 'x-envoy-upstream-service-time': '858', 'strict-transport-security': 'max-age=31536000', 'via': '1.1 google', 'Alt-Svc': 'h3=\":443\"; ma=2592000,h3-29=\":443\"; ma=2592000'}\nURL: https://upload.box.com/api/2.0/files/content\nMethod: POST\nContext Info: {'conflicts': {'type': 'file', 'id': '1822297989172', 'file_version': {'type': 'file_version', 'id': '2008807756372', 'sha1': 'a014060372f82f7e56dd6323b32f6d86b4dbddd0'}, 'sequence_id': '0', 'etag': '0', 'sha1': 'a014060372f82f7e56dd6323b32f6d86b4dbddd0', 'name': 'taq_test_AAPL_20220930.parquet'}}"
     ]
    }
   ],
   "source": [
    "from taq_pull import get_nbbo_tick_by_day \n",
    "from box_client_new import upload_to_box\n",
    "\n",
    "ticker = 'AAPL'\n",
    "day = '20220930'\n",
    "nbbo_df_1 = get_nbbo_tick_by_day(ticker,day)\n",
    "nbbo_df_1\n",
    "display(nbbo_df_1.head())\n",
    "dest=fr'outputs/taq_test_{ticker}_{day}.parquet'\n",
    "nbbo_df_1.to_parquet(dest,engine='pyarrow')\n",
    "upload_to_box(dest,dest.split(r'/')[-1])\n",
    "\n",
    "day = '20221031'\n",
    "nbbo_df_2 = get_nbbo_tick_by_day(ticker,day)\n",
    "display(nbbo_df_2.head())\n",
    "dest=fr'outputs/taq_test_{ticker}_{day}.parquet'\n",
    "nbbo_df_2.to_parquet(dest,engine='pyarrow')\n",
    "upload_to_box(dest,dest.split(r'/')[-1])"
   ]
  },
  {
   "cell_type": "code",
   "execution_count": null,
   "metadata": {},
   "outputs": [],
   "source": [
    "from box_client import "
   ]
  },
  {
   "cell_type": "code",
   "execution_count": null,
   "metadata": {},
   "outputs": [],
   "source": []
  }
 ],
 "metadata": {
  "kernelspec": {
   "display_name": "env",
   "language": "python",
   "name": "python3"
  },
  "language_info": {
   "codemirror_mode": {
    "name": "ipython",
    "version": 3
   },
   "file_extension": ".py",
   "mimetype": "text/x-python",
   "name": "python",
   "nbconvert_exporter": "python",
   "pygments_lexer": "ipython3",
   "version": "3.13.2"
  }
 },
 "nbformat": 4,
 "nbformat_minor": 2
}
